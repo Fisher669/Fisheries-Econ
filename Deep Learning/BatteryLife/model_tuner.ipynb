{
 "cells": [
  {
   "cell_type": "code",
   "execution_count": null,
   "metadata": {},
   "outputs": [],
   "source": [
    "# pip install tensorflow"
   ]
  },
  {
   "cell_type": "code",
   "execution_count": null,
   "metadata": {},
   "outputs": [],
   "source": [
    "import keras_tuner as kt\n",
    "import tensorflow as tf\n",
    "import pandas as pd\n",
    "from sklearn.model_selection import train_test_split\n",
    "from sklearn.preprocessing import StandardScaler\n",
    "import keras_tuner as kt\n",
    "import tensorflow as tf\n",
    "from sklearn.metrics import mean_squared_error, mean_absolute_error, r2_score, median_absolute_error\n"
   ]
  },
  {
   "cell_type": "code",
   "execution_count": null,
   "metadata": {},
   "outputs": [],
   "source": [
    "\n",
    "# 定义模型构建函数\n",
    "def build_model(hp):\n",
    "    try:\n",
    "        # 调整隐藏层数量\n",
    "        n_hidden = hp.Int(\"n_hidden\", min_value=0, max_value=8, default=2)\n",
    "        \n",
    "        # 调整每层神经元数量\n",
    "        n_neurons = hp.Int(\"n_neurons\", min_value=16, max_value=256)\n",
    "        \n",
    "        # 调整cell数量\n",
    "        n_cells = hp.Int(\"n_cells\", min_value=1, max_value=10)\n",
    "\n",
    "        # 调整学习率\n",
    "        learning_rate = hp.Float(\"learning_rate\", min_value=1e-4, max_value=1e-1, sampling=\"log\")\n",
    "\n",
    "        # 选择优化器\n",
    "        optimizer_choice = hp.Choice(\"optimizer\", values=[\"adam\", \"sgd\", \"adamax\", \"rmsprop\", \"adadelta\", \"adagrad\", \"nadam\"])\n",
    "        \n",
    "        # 选择批量大小\n",
    "        batch_size = hp.Int(\"batch_size\", min_value=16, max_value=128, step=16)\n",
    "\n",
    "        # 根据选择的优化器设定优化器\n",
    "        if optimizer_choice == \"adam\":\n",
    "            optimizer = tf.keras.optimizers.Adam(learning_rate=learning_rate)\n",
    "        elif optimizer_choice == \"sgd\":\n",
    "            optimizer = tf.keras.optimizers.SGD(learning_rate=learning_rate)\n",
    "        elif optimizer_choice == \"adamax\":\n",
    "            optimizer = tf.keras.optimizers.Adamax(learning_rate=learning_rate)\n",
    "        elif optimizer_choice == \"rmsprop\":\n",
    "            optimizer = tf.keras.optimizers.RMSprop(learning_rate=learning_rate)\n",
    "        elif optimizer_choice == \"adadelta\":\n",
    "            optimizer = tf.keras.optimizers.Adadelta(learning_rate=learning_rate)\n",
    "        elif optimizer_choice == \"adagrad\":\n",
    "            optimizer = tf.keras.optimizers.Adagrad(learning_rate=learning_rate)\n",
    "        elif optimizer_choice == \"nadam\":\n",
    "            optimizer = tf.keras.optimizers.Nadam(learning_rate=learning_rate)\n",
    "\n",
    "        # 创建模型\n",
    "        model = tf.keras.Sequential()\n",
    "        model.add(tf.keras.layers.Flatten())\n",
    "\n",
    "        # 添加隐藏层\n",
    "        for _ in range(n_hidden):\n",
    "            for _ in range(n_cells):\n",
    "                model.add(tf.keras.layers.Dense(n_neurons, activation=\"relu\"))\n",
    "\n",
    "        # 添加输出层\n",
    "        model.add(tf.keras.layers.Dense(10, activation=\"softmax\"))\n",
    "\n",
    "        # 编译模型\n",
    "        model.compile(loss=\"sparse_categorical_crossentropy\", optimizer=optimizer, metrics=[\"accuracy\"])\n",
    "        \n",
    "        return model\n",
    "\n",
    "    except Exception as e:\n",
    "        print(f\"构建模型时出错: {e}\")\n",
    "        return None\n"
   ]
  },
  {
   "cell_type": "code",
   "execution_count": null,
   "metadata": {},
   "outputs": [],
   "source": [
    "# 读取数据集\n",
    "data = pd.read_csv('data.csv')\n",
    "X = data.iloc[:, :-1].values\n",
    "y = data.iloc[:, -1].values"
   ]
  }
 ],
 "metadata": {
  "kernelspec": {
   "display_name": "py39",
   "language": "python",
   "name": "python3"
  },
  "language_info": {
   "codemirror_mode": {
    "name": "ipython",
    "version": 3
   },
   "file_extension": ".py",
   "mimetype": "text/x-python",
   "name": "python",
   "nbconvert_exporter": "python",
   "pygments_lexer": "ipython3",
   "version": "3.9.19"
  }
 },
 "nbformat": 4,
 "nbformat_minor": 2
}
