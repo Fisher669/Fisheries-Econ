{
 "cells": [
  {
   "cell_type": "code",
   "execution_count": 1,
   "metadata": {},
   "outputs": [],
   "source": [
    "import torch\n",
    "import torch.nn as nn\n",
    "import torch.nn.functional as F\n",
    "import numpy as np\n",
    "from sklearn.model_selection import train_test_split"
   ]
  },
  {
   "cell_type": "code",
   "execution_count": 2,
   "metadata": {},
   "outputs": [],
   "source": [
    "# 加载数据集中的Qd、循环寿命和总容量信息，并进行分析\n",
    "temp_Qd = np.load(\"Data_processed/Qd_100.npy\", allow_pickle=True).item()\n",
    "temp_life = np.load(\"Data_processed/cycle_life.npy\", allow_pickle=True).item()\n",
    "all_capacity = np.load(\"Data_processed/all_capacity.npy\", allow_pickle=True).item()\n",
    "# 分析这个数据集里面有什么变量以及该怎么运算"
   ]
  },
  {
   "cell_type": "code",
   "execution_count": 3,
   "metadata": {},
   "outputs": [],
   "source": [
    "# 该代码用于处理电池数据，提取电池寿命和相关信息，并将其转换为数组格式。\n",
    "temp_Qd_all = []\n",
    "temp_life_all = []\n",
    "\n",
    "for key in temp_Qd.keys():\n",
    "    temp_life_all.append(temp_life[key])\n",
    "    temp_Qd_list = []\n",
    "    for item in temp_Qd[key]:\n",
    "        temp_Qd_list.append(item)\n",
    "    temp_Qd_arr = np.asarray(temp_Qd_list)\n",
    "    temp_Qd_all.append(temp_Qd_arr)\n",
    "\n",
    "# 将所有提取的数据转换为NumPy数组\n",
    "all_Qd_arr = np.asarray(temp_Qd_all)\n",
    "cycle_life_arr = np.asarray(temp_life_all)"
   ]
  },
  {
   "cell_type": "code",
   "execution_count": 4,
   "metadata": {},
   "outputs": [],
   "source": [
    "# 划分数据集\n",
    "# 输入: temp_Qd, cycle_life_arr, all_Qd_arr\n",
    "# 输出: train_Qd, val_Qd, train_cycle_life, val_cycle_life, test_Qd_a, test_cycle_life_a, test_Qd_b, test_cycle_life_b\n",
    "# 功能: 将数据集划分为训练集和测试集，并进行标准化处理\n",
    "test_ind = np.hstack((np.arange(0, (41 + 43), 2), 83))\n",
    "train_ind = np.arange(1, (41 + 43 - 1), 2)\n",
    "secondary_true_ind = np.arange(124 - 40, 124)\n",
    "\n",
    "all_keys = list(temp_Qd.keys())\n",
    "train_keys = [all_keys[inx] for inx in train_ind]\n",
    "test_keys = [all_keys[inx] for inx in test_ind]\n",
    "secondary_true_keys = [all_keys[inx] for inx in secondary_true_ind]\n",
    "\n",
    "cycle_life_arr = np.asarray(cycle_life_arr).reshape(-1, 1)\n",
    "max_label = np.max(cycle_life_arr)\n",
    "cycle_life_arr = cycle_life_arr / max_label\n",
    "\n",
    "train_Qds = np.asarray(all_Qd_arr)[train_ind]\n",
    "train_cycle_lifes = np.asarray(cycle_life_arr)[train_ind]\n",
    "\n",
    "test_Qd_a = np.asarray(all_Qd_arr)[test_ind]\n",
    "test_cycle_life_a = np.asarray(cycle_life_arr)[test_ind]\n",
    "\n",
    "test_Qd_b = np.asarray(all_Qd_arr)[secondary_true_ind]\n",
    "test_cycle_life_b = np.asarray(cycle_life_arr)[secondary_true_ind]\n",
    "train_Qd, val_Qd, train_cycle_life, val_cycle_life = train_test_split(train_Qds, train_cycle_lifes, test_size=0.2, random_state=42)"
   ]
  },
  {
   "cell_type": "code",
   "execution_count": 5,
   "metadata": {},
   "outputs": [],
   "source": [
    "# 将数据转换为 torch tensors 的过程\n",
    "# 训练、验证及测试数据的预处理\n",
    "# 输入原始数据并将其转换为合适的形状以供模型使用\n",
    "# 为了兼容模型输入，调整张量的维度\n",
    "train_Qd = torch.FloatTensor(train_Qd) \n",
    "val_Qd = torch.FloatTensor(val_Qd)\n",
    "train_cycle_life = torch.FloatTensor(train_cycle_life).view(-1, 1)\n",
    "val_cycle_life = torch.FloatTensor(val_cycle_life).view(-1, 1)\n",
    "\n",
    "test_Qd_a = torch.FloatTensor(test_Qd_a)\n",
    "test_cycle_life_a = torch.FloatTensor(test_cycle_life_a).view(-1, 1)\n",
    "\n",
    "test_Qd_b = torch.FloatTensor(test_Qd_b)\n",
    "test_cycle_life_b = torch.FloatTensor(test_cycle_life_b).view(-1, 1)\n",
    "\n",
    "# 增加一个维度以匹配模型的输入要求\n",
    "train_Qd = train_Qd.unsqueeze(1) \n",
    "val_Qd = val_Qd.unsqueeze(1)\n",
    "test_Qd_a = test_Qd_a.unsqueeze(1)\n",
    "test_Qd_b = test_Qd_b.unsqueeze(1)"
   ]
  },
  {
   "cell_type": "code",
   "execution_count": 10,
   "metadata": {},
   "outputs": [],
   "source": [
    "import torch\n",
    "import torch.nn as nn\n",
    "import torch.nn.functional as F\n",
    "\n",
    "# 定义CNN-LSTM模型\n",
    "class CNNLSTMModel(nn.Module):\n",
    "    # 初始化模型参数\n",
    "    def __init__(self, sequence_length, input_dim, hidden_dim, output_dim, num_layers):\n",
    "        super(CNNLSTMModel, self).__init__()\n",
    "        self.sequence_length = sequence_length\n",
    "        self.input_dim = input_dim\n",
    "        self.hidden_dim = hidden_dim\n",
    "        self.output_dim = output_dim\n",
    "        self.num_layers = num_layers\n",
    "        \n",
    "        self.layer1 = nn.Sequential(\n",
    "            nn.Conv2d(1, 8, kernel_size=(50, 50), stride=(5, 40)),\n",
    "            nn.BatchNorm2d(8),\n",
    "            nn.LeakyReLU(inplace=True),\n",
    "            nn.MaxPool2d(kernel_size=2, stride=1)\n",
    "        )\n",
    "\n",
    "        self.layer2 = nn.Sequential(\n",
    "            nn.Conv2d(8, 16, kernel_size=(2, 3), stride=1),\n",
    "            nn.BatchNorm2d(16),\n",
    "            nn.LeakyReLU(inplace=True)\n",
    "        )\n",
    "        \n",
    "        self.feature_size = self._get_conv_output_size()\n",
    "        \n",
    "        # LSTM层\n",
    "        self.lstm = nn.LSTM(self.feature_size, hidden_dim, num_layers, batch_first=True, dropout=0.5)\n",
    "        self.dropout = nn.Dropout(0.5)\n",
    "        self.fc = nn.Linear(hidden_dim, output_dim)\n",
    "    \n",
    "    # 计算卷积层的输出大小\n",
    "    def _get_conv_output_size(self):\n",
    "        input_tensor = torch.autograd.Variable(torch.rand(1, 1, self.sequence_length, self.input_dim))\n",
    "        output_feat = self.layer2(self.layer1(input_tensor))\n",
    "        return int(output_feat.view(output_feat.size(0), -1).size(1))\n",
    "\n",
    "    # 定义前向传播过程\n",
    "    def forward(self, x):\n",
    "        if x.size(1) != 1 or x.size(2) != self.sequence_length or x.size(3) != self.input_dim:\n",
    "            raise ValueError(f\"Input tensor shape should be [batch_size, 1, {self.sequence_length}, {self.input_dim}], but got {x.shape}\")\n",
    "        \n",
    "        x = self.layer1(x)\n",
    "        x = self.layer2(x)\n",
    "\n",
    "        x = x.view(x.size(0), -1, self.feature_size)\n",
    "        lstm_out, _ = self.lstm(x)\n",
    "        \n",
    "        x = lstm_out[:, -1, :]\n",
    "        x = self.dropout(x)\n",
    "        x = self.fc(x)\n",
    "\n",
    "        return torch.sigmoid(x)\n"
   ]
  },
  {
   "cell_type": "code",
   "execution_count": 11,
   "metadata": {},
   "outputs": [],
   "source": [
    "# 实例化模型\n",
    "model = CNNLSTMModel(sequence_length=100, input_dim=1000, hidden_dim=64, output_dim=1, num_layers=2)\n"
   ]
  },
  {
   "cell_type": "code",
   "execution_count": 12,
   "metadata": {},
   "outputs": [],
   "source": [
    "import torch\n",
    "import torch.nn as nn\n",
    "import numpy as np\n",
    "import logging\n",
    "\n",
    "# 设置日志配置，输出到 log 文件\n",
    "logging.basicConfig(filename='training.log', \n",
    "                    filemode='w',  # 'w' 表示每次运行都会重写日志文件, 如果需要追加则使用 'a'\n",
    "                    format='%(asctime)s - %(levelname)s - %(message)s', \n",
    "                    level=logging.INFO)\n",
    "\n",
    "# 设置模型优化器、损失函数和其他参数\n",
    "optimizer = torch.optim.Adam(model.parameters(), lr=0.001)\n",
    "criterion = nn.MSELoss()\n",
    "\n",
    "# 设置 Early Stopping 参数\n",
    "patience = 3  # 如果损失没有改善的轮次\n",
    "best_loss = np.inf\n",
    "patience_counter = 0\n",
    "\n",
    "# 设置多线程\n",
    "n_jobs = 14  # 你想使用的线程数\n",
    "torch.set_num_threads(n_jobs)\n",
    "\n",
    "# 训练模型\n",
    "num_epochs = 1000\n",
    "for epoch in range(num_epochs):\n",
    "    model.train()\n",
    "    optimizer.zero_grad()\n",
    "    \n",
    "    # 前向传播\n",
    "    outputs = model(train_Qd)\n",
    "    loss = criterion(outputs, train_cycle_life)\n",
    "    \n",
    "    # 反向传播和优化\n",
    "    loss.backward()\n",
    "    optimizer.step()\n",
    "\n",
    "    # 记录到日志文件\n",
    "    logging.info(f'Epoch {epoch+1}/{num_epochs}, Loss: {loss.item()}')\n",
    "\n",
    "    # Early Stopping 检查\n",
    "    if loss.item() < best_loss:\n",
    "        best_loss = loss.item()\n",
    "        patience_counter = 0  # 重置 patience 计数\n",
    "    else:\n",
    "        patience_counter += 1  # 增加 patience 计数\n",
    "\n",
    "    if patience_counter >= patience:\n",
    "        logging.info(f\"Early stopping triggered at epoch {epoch+1}\")\n",
    "        break\n"
   ]
  },
  {
   "cell_type": "code",
   "execution_count": 13,
   "metadata": {},
   "outputs": [
    {
     "name": "stdout",
     "output_type": "stream",
     "text": [
      "Validation Loss: 0.0034535760059952736\n",
      "Test Loss A: 0.03156289830803871\n",
      "Test Loss B: 0.045540701597929\n",
      "The similar LIB index in training set is: 4\n"
     ]
    },
    {
     "name": "stderr",
     "output_type": "stream",
     "text": [
      "C:\\Users\\Fisher Man\\AppData\\Local\\Temp\\ipykernel_25456\\2080267499.py:52: FutureWarning: You are using `torch.load` with `weights_only=False` (the current default value), which uses the default pickle module implicitly. It is possible to construct malicious pickle data which will execute arbitrary code during unpickling (See https://github.com/pytorch/pytorch/blob/main/SECURITY.md#untrusted-models for more details). In a future release, the default value for `weights_only` will be flipped to `True`. This limits the functions that could be executed during unpickling. Arbitrary objects will no longer be allowed to be loaded via this mode unless they are explicitly allowlisted by the user via `torch.serialization.add_safe_globals`. We recommend you start setting `weights_only=True` for any use case where you don't have full control of the loaded file. Please open an issue on GitHub for any issues related to this experimental feature.\n",
      "  model.load_state_dict(torch.load('model.pth'))\n"
     ]
    },
    {
     "data": {
      "text/plain": [
       "<All keys matched successfully>"
      ]
     },
     "execution_count": 13,
     "metadata": {},
     "output_type": "execute_result"
    }
   ],
   "source": [
    "# 验证模型\n",
    "model.eval()\n",
    "with torch.no_grad():\n",
    "    predicted = model(val_Qd)\n",
    "    val_loss = criterion(predicted, val_cycle_life)\n",
    "    print(f'Validation Loss: {val_loss.item()}')\n",
    "\n",
    "# 测试模型\n",
    "with torch.no_grad():\n",
    "    predicted_a = model(test_Qd_a)\n",
    "    predicted_b = model(test_Qd_b)\n",
    "    test_loss_a = criterion(predicted_a, test_cycle_life_a)\n",
    "    test_loss_b = criterion(predicted_b, test_cycle_life_b)\n",
    "    print(f'Test Loss A: {test_loss_a.item()}')\n",
    "    print(f'Test Loss B: {test_loss_b.item()}')\n",
    "\n",
    "# 特征提取函数\n",
    "def extract_features(data):\n",
    "    data = data.numpy()  \n",
    "    features = {\n",
    "        'mean': np.mean(data, axis=0),\n",
    "        'std': np.std(data, axis=0),\n",
    "        'max': np.max(data, axis=0),\n",
    "        'min': np.min(data, axis=0),\n",
    "    }\n",
    "    features_flat = [features['mean'].flatten(), features['std'].flatten(), features['max'].flatten(), features['min'].flatten()]\n",
    "    return np.concatenate(features_flat)\n",
    "\n",
    "# 相似度计算函数\n",
    "def euclidean_distance(feature1, feature2):\n",
    "    return np.sqrt(np.sum((feature1 - feature2) ** 2))\n",
    "\n",
    "# 找到相似的训练LIB\n",
    "def find_similar_lib(train_features, test_feature):\n",
    "    min_distance = float('inf')\n",
    "    similar_lib_index = None\n",
    "    for i, train_feature in enumerate(train_features):\n",
    "        distance = euclidean_distance(test_feature, train_feature)\n",
    "        if distance < min_distance:\n",
    "            min_distance = distance\n",
    "            similar_lib_index = i\n",
    "    return similar_lib_index\n",
    "\n",
    "# 提取训练和测试数据的特征\n",
    "train_features = [extract_features(lib) for lib in train_Qd]\n",
    "test_feature = extract_features(test_Qd_a[0])  \n",
    "\n",
    "similar_lib_index = find_similar_lib(train_features, test_feature)\n",
    "print(f\"The similar LIB index in training set is: {similar_lib_index}\")\n",
    "\n",
    "torch.save(model.state_dict(), 'model.pth')\n",
    "model.load_state_dict(torch.load('model.pth'))"
   ]
  },
  {
   "cell_type": "code",
   "execution_count": 14,
   "metadata": {},
   "outputs": [
    {
     "name": "stderr",
     "output_type": "stream",
     "text": [
      "C:\\Users\\Fisher Man\\AppData\\Local\\Temp\\ipykernel_25456\\2944833387.py:4: FutureWarning: You are using `torch.load` with `weights_only=False` (the current default value), which uses the default pickle module implicitly. It is possible to construct malicious pickle data which will execute arbitrary code during unpickling (See https://github.com/pytorch/pytorch/blob/main/SECURITY.md#untrusted-models for more details). In a future release, the default value for `weights_only` will be flipped to `True`. This limits the functions that could be executed during unpickling. Arbitrary objects will no longer be allowed to be loaded via this mode unless they are explicitly allowlisted by the user via `torch.serialization.add_safe_globals`. We recommend you start setting `weights_only=True` for any use case where you don't have full control of the loaded file. Please open an issue on GitHub for any issues related to this experimental feature.\n",
      "  model.load_state_dict(torch.load('model.pth'))\n"
     ]
    },
    {
     "data": {
      "text/plain": [
       "CNNLSTMModel(\n",
       "  (layer1): Sequential(\n",
       "    (0): Conv2d(1, 8, kernel_size=(50, 50), stride=(5, 40))\n",
       "    (1): BatchNorm2d(8, eps=1e-05, momentum=0.1, affine=True, track_running_stats=True)\n",
       "    (2): LeakyReLU(negative_slope=0.01, inplace=True)\n",
       "    (3): MaxPool2d(kernel_size=2, stride=1, padding=0, dilation=1, ceil_mode=False)\n",
       "  )\n",
       "  (layer2): Sequential(\n",
       "    (0): Conv2d(8, 16, kernel_size=(2, 3), stride=(1, 1))\n",
       "    (1): BatchNorm2d(16, eps=1e-05, momentum=0.1, affine=True, track_running_stats=True)\n",
       "    (2): LeakyReLU(negative_slope=0.01, inplace=True)\n",
       "  )\n",
       "  (lstm): LSTM(3024, 64, num_layers=2, batch_first=True, dropout=0.5)\n",
       "  (dropout): Dropout(p=0.5, inplace=False)\n",
       "  (fc): Linear(in_features=64, out_features=1, bias=True)\n",
       ")"
      ]
     },
     "execution_count": 14,
     "metadata": {},
     "output_type": "execute_result"
    }
   ],
   "source": [
    "import numpy as np\n",
    "import torch\n",
    "from sklearn.metrics import mean_squared_error, mean_absolute_error, median_absolute_error, r2_score    # 加载模型\n",
    "model.load_state_dict(torch.load('model.pth'))\n",
    "model.eval()\n"
   ]
  },
  {
   "cell_type": "code",
   "execution_count": 15,
   "metadata": {},
   "outputs": [
    {
     "name": "stdout",
     "output_type": "stream",
     "text": [
      "Test Loss A: 0.03156289830803871\n",
      "Test Loss B: 0.045540701597929\n"
     ]
    },
    {
     "data": {
      "image/png": "[encoded data removed]",
      "text/plain": [
       "<Figure size 1000x500 with 1 Axes>"
      ]
     },
     "metadata": {},
     "output_type": "display_data"
    },
    {
     "data": {
      "image/png": "[encoded data removed]",
      "text/plain": [
       "<Figure size 1000x500 with 1 Axes>"
      ]
     },
     "metadata": {},
     "output_type": "display_data"
    }
   ],
   "source": [
    "from matplotlib import pyplot as plt\n",
    "\n",
    "from matplotlib import pyplot as plt\n",
    "\n",
    "def plot_predicted(test_cycle_life, predicted, model_label):\n",
    "    plt.figure(figsize=(10, 5))\n",
    "    plt.scatter(test_cycle_life, predicted, label=f'predicted {model_label}')\n",
    "    plt.plot([min(test_cycle_life), max(test_cycle_life)], \n",
    "             [min(test_cycle_life), max(test_cycle_life)], color='red', linestyle='--', label='True Line')\n",
    "    plt.title(f'Model 1 - True vs Predicted ({model_label})')\n",
    "    plt.xlabel(f'True Values ({model_label})')\n",
    "    plt.ylabel(f'Predicted Values ({model_label})')\n",
    "    plt.legend()\n",
    "    plt.show()\n",
    "\n",
    "\n",
    "with torch.no_grad():\n",
    "    predicted_a = model(test_Qd_a)\n",
    "    predicted_b = model(test_Qd_b)\n",
    "    test_loss_a = criterion(predicted_a, test_cycle_life_a)\n",
    "    test_loss_b = criterion(predicted_b, test_cycle_life_b)\n",
    "    print(f'Test Loss A: {test_loss_a.item()}')\n",
    "    print(f'Test Loss B: {test_loss_b.item()}')\n",
    "\n",
    "    # 绘制散点图\n",
    "    plot_predicted(test_cycle_life_a, predicted_a, 'A')\n",
    "    plot_predicted(test_cycle_life_b, predicted_b, 'B')\n",
    "\n"
   ]
  },
  {
   "cell_type": "code",
   "execution_count": 16,
   "metadata": {},
   "outputs": [
    {
     "name": "stdout",
     "output_type": "stream",
     "text": [
      "Model 1 - Test Loss A: 0.03156289830803871, RMSE A: 0.17765949666500092, MAE A: 0.1101708859205246, R² A: -0.032184411116935596\n",
      "Model 1 - Test Loss B: 0.045540701597929, RMSE B: 0.2134026736021042, MAE B: 0.17323675751686096, R² B: -1.7960014282768442\n"
     ]
    }
   ],
   "source": [
    "from sklearn.metrics import mean_squared_error, mean_absolute_error, r2_score\n",
    "import numpy as np\n",
    "cycle_life_a_mean = np.mean(test_cycle_life_a.numpy())\n",
    "cycle_life_b_mean = np.mean(test_cycle_life_b.numpy())\n",
    "cycle_life_a_std = np.std(test_cycle_life_a.numpy())\n",
    "cycle_life_b_std = np.std(test_cycle_life_b.numpy())\n",
    "# 评估所有模型的性能\n",
    "results = [] \n",
    "    # 计算 RMSE, MAE, R²,rmse/mean,rmse/std,mae/mean,mae/std\n",
    "rmse_a = np.sqrt(mean_squared_error(test_cycle_life_a, predicted_a))\n",
    "mae_a = mean_absolute_error(test_cycle_life_a, predicted_a)\n",
    "r2_a = r2_score(test_cycle_life_a, predicted_a)\n",
    "    \n",
    "rmse_b = np.sqrt(mean_squared_error(test_cycle_life_b, predicted_b))\n",
    "mae_b = mean_absolute_error(test_cycle_life_b, predicted_b)\n",
    "r2_b = r2_score(test_cycle_life_b, predicted_b)\n",
    "    \n",
    "rmse_mean_a = rmse_a / cycle_life_a_mean\n",
    "rmse_std_a = rmse_a / cycle_life_a_std\n",
    "mae_mean_a = mae_a / cycle_life_a_mean\n",
    "mae_std_a = mae_a / cycle_life_a_std\n",
    "    \n",
    "rmse_mean_b = rmse_b / cycle_life_b_mean\n",
    "rmse_std_b = rmse_b / cycle_life_b_std\n",
    "mae_mean_b = mae_b / cycle_life_b_mean\n",
    "mae_std_b = mae_b / cycle_life_b_std\n",
    "    \n",
    "    # 打印结果\n",
    "print(f\"Model {1} - Test Loss A: {test_loss_a}, RMSE A: {rmse_a}, MAE A: {mae_a}, R² A: {r2_a}\")\n",
    "print(f\"Model {1} - Test Loss B: {test_loss_b}, RMSE B: {rmse_b}, MAE B: {mae_b}, R² B: {r2_b}\")\n",
    "    \n",
    "    # 保存结果\n",
    "results.append([1, test_loss_a, rmse_a, mae_a, r2_a, test_loss_b, rmse_b, mae_b, r2_b,rmse_mean_a,rmse_std_a,mae_mean_a,mae_std_a,rmse_mean_b,rmse_std_b,mae_mean_b,mae_std_b])\n",
    "# 创建 CSV 保存评估结果\n",
    "import csv\n",
    "with open('model_evaluation_results.csv', mode='w', newline='') as file:\n",
    "    writer = csv.writer(file)\n",
    "    writer.writerow(['Model', 'Test Loss A', 'RMSE A', 'MAE A', 'R² A', \n",
    "                     'Test Loss B', 'RMSE B', 'MAE B', 'R² B','RMSE/Mean A','RMSE/Std A','MAE/Mean A','MAE/Std A','RMSE/Mean B','RMSE/Std B','MAE/Mean B','MAE/Std B'])\n",
    "    writer.writerows(results)\n"
   ]
  }
 ],
 "metadata": {
  "kernelspec": {
   "display_name": "py39",
   "language": "python",
   "name": "python3"
  },
  "language_info": {
   "codemirror_mode": {
    "name": "ipython",
    "version": 3
   },
   "file_extension": ".py",
   "mimetype": "text/x-python",
   "name": "python",
   "nbconvert_exporter": "python",
   "pygments_lexer": "ipython3",
   "version": "3.9.19"
  }
 },
 "nbformat": 4,
 "nbformat_minor": 2
}
